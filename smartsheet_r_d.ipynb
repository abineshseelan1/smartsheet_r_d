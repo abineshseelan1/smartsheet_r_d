{
 "cells": [
  {
   "cell_type": "markdown",
   "metadata": {},
   "source": [
    "# File objects"
   ]
  },
  {
   "cell_type": "code",
   "execution_count": 25,
   "metadata": {},
   "outputs": [
    {
     "name": "stdout",
     "output_type": "stream",
     "text": [
      "sheet\n",
      "deleted\n",
      "created\n",
      "updated\n"
     ]
    }
   ],
   "source": [
    "\n",
    "import json\n",
    "import pprint\n",
    "\n",
    "\n",
    "\n",
    "#assignin json file \"Smartsheet_Example.json\" to variable \"smartsheet_example\"\n",
    "smartsheet_example = \"Smartsheet_Example.json\"\n",
    "\n",
    "#assigining json file \"multiple_cell_multiple_action.json\" to variable \"smartsheet_webhook\"\n",
    "\n",
    "smartsheet_webhook = \"multiple_cell_multiple_action.json\"\n",
    "\n",
    "#open and load the JSON file assigned to the variable \"smartsheet_webhook\" \n",
    "with open(smartsheet_webhook) as file:\n",
    "   smartsheet_webhook=json.load(file)\n",
    "\n",
    "#print the values associated to the key'Scope'   \n",
    "print(smartsheet_webhook.get('scope'))\n",
    "\n",
    "#change the json file from dic to list and assign it to the variable \"list_of _events\"\n",
    "list_of_events = list(smartsheet_webhook.values())\n",
    "\n",
    "#Assign the key \"events\" to the Variable \"events\"\n",
    "events = list(list_of_events[5])\n",
    "\n",
    "#Get the values associated with \"eventType\" in \"events\" and print them\n",
    "for eventType in events:\n",
    "    print(eventType.get('eventType'))\n",
    "\n",
    "\n",
    "  \n",
    "\n",
    "   \n",
    "\n",
    "   \n",
    "\n",
    "\n",
    "\n",
    "\n",
    "            \n",
    "            \n",
    "\n",
    "\n"
   ]
  }
 ],
 "metadata": {
  "interpreter": {
   "hash": "63fd5069d213b44bf678585dea6b12cceca9941eaf7f819626cde1f2670de90d"
  },
  "kernelspec": {
   "display_name": "Python 3.9.8 64-bit",
   "language": "python",
   "name": "python3"
  },
  "language_info": {
   "codemirror_mode": {
    "name": "ipython",
    "version": 3
   },
   "file_extension": ".py",
   "mimetype": "text/x-python",
   "name": "python",
   "nbconvert_exporter": "python",
   "pygments_lexer": "ipython3",
   "version": "3.9.8"
  },
  "orig_nbformat": 4
 },
 "nbformat": 4,
 "nbformat_minor": 2
}
