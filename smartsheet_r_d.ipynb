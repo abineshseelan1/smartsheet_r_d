{
 "cells": [
  {
   "cell_type": "markdown",
   "metadata": {},
   "source": [
    "# File objects"
   ]
  },
  {
   "cell_type": "code",
   "execution_count": 24,
   "metadata": {},
   "outputs": [],
   "source": [
    "#Test\n",
    "#import json\n",
    "#import os\n",
    "#smartsheet_example =\"https://github.com/abineshseelan1/Smartsheet_Example.git\"\n",
    "#smartsheet_webhook = \"https://github.com/abineshseelan1/multiple_cell_multiple_action.git\"\n",
    "#open\n",
    "#with open(smartsheet_example) as file:\n",
    "#    smartsheetexxample=json.load(file)    \n",
    "#print(smartsheetexample)\n",
    "\n",
    "#with open(smartsheet_webhook) as file:\n",
    " #  data2=json.load(file)\n",
    "#print(data2.get('scope'))\n",
    "#print(data2.get('events'))\n",
    "\n",
    "#dir(json)\n",
    "#names = json_extract(data2.json(), 'eventType')\n",
    "#print(names)\n",
    "#print(data2)\n",
    "\n",
    "\n",
    "            \n",
    "            \n",
    "\n",
    "\n"
   ]
  },
  {
   "cell_type": "code",
   "execution_count": 25,
   "metadata": {},
   "outputs": [],
   "source": [
    "import json\n",
    "import os\n",
    "\n"
   ]
  }
 ],
 "metadata": {
  "interpreter": {
   "hash": "63fd5069d213b44bf678585dea6b12cceca9941eaf7f819626cde1f2670de90d"
  },
  "kernelspec": {
   "display_name": "Python 3.9.8 64-bit",
   "language": "python",
   "name": "python3"
  },
  "language_info": {
   "codemirror_mode": {
    "name": "ipython",
    "version": 3
   },
   "file_extension": ".py",
   "mimetype": "text/x-python",
   "name": "python",
   "nbconvert_exporter": "python",
   "pygments_lexer": "ipython3",
   "version": "3.9.8"
  },
  "orig_nbformat": 4
 },
 "nbformat": 4,
 "nbformat_minor": 2
}
